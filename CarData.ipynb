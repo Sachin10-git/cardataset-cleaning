{
 "cells": [
  {
   "cell_type": "markdown",
   "id": "5babce8a",
   "metadata": {},
   "source": [
    "# CAR DATASET CLEANING"
   ]
  },
  {
   "cell_type": "code",
   "execution_count": 1,
   "id": "cb0af9d0",
   "metadata": {},
   "outputs": [],
   "source": [
    "import pandas as pd\n",
    "import seaborn as sns\n",
    "import numpy as np\n",
    "import matplotlib.pyplot as plt"
   ]
  },
  {
   "cell_type": "markdown",
   "id": "acbcad65",
   "metadata": {},
   "source": [
    "To read csv file to the editor\n"
   ]
  },
  {
   "cell_type": "code",
   "execution_count": 2,
   "id": "85a0fe53",
   "metadata": {},
   "outputs": [
    {
     "data": {
      "text/html": [
       "<div>\n",
       "<style scoped>\n",
       "    .dataframe tbody tr th:only-of-type {\n",
       "        vertical-align: middle;\n",
       "    }\n",
       "\n",
       "    .dataframe tbody tr th {\n",
       "        vertical-align: top;\n",
       "    }\n",
       "\n",
       "    .dataframe thead th {\n",
       "        text-align: right;\n",
       "    }\n",
       "</style>\n",
       "<table border=\"1\" class=\"dataframe\">\n",
       "  <thead>\n",
       "    <tr style=\"text-align: right;\">\n",
       "      <th></th>\n",
       "      <th>Company Names</th>\n",
       "      <th>Cars Names</th>\n",
       "      <th>Engines</th>\n",
       "      <th>CC/Battery Capacity</th>\n",
       "      <th>HorsePower</th>\n",
       "      <th>Total Speed</th>\n",
       "      <th>Performance(0 - 100 )KM/H</th>\n",
       "      <th>Cars Prices</th>\n",
       "      <th>Fuel Types</th>\n",
       "      <th>Seats</th>\n",
       "      <th>Torque</th>\n",
       "    </tr>\n",
       "  </thead>\n",
       "  <tbody>\n",
       "    <tr>\n",
       "      <th>0</th>\n",
       "      <td>FERRARI</td>\n",
       "      <td>SF90 STRADALE</td>\n",
       "      <td>V8</td>\n",
       "      <td>3990 cc</td>\n",
       "      <td>963 hp</td>\n",
       "      <td>340 km/h</td>\n",
       "      <td>2.5 sec</td>\n",
       "      <td>$1,100,000</td>\n",
       "      <td>plug in hyrbrid</td>\n",
       "      <td>2</td>\n",
       "      <td>800 Nm</td>\n",
       "    </tr>\n",
       "    <tr>\n",
       "      <th>1</th>\n",
       "      <td>ROLLS ROYCE</td>\n",
       "      <td>PHANTOM</td>\n",
       "      <td>V12</td>\n",
       "      <td>NaN</td>\n",
       "      <td>563 hp</td>\n",
       "      <td>250 km/h</td>\n",
       "      <td>5.3 sec</td>\n",
       "      <td>$460,000</td>\n",
       "      <td>Petrol</td>\n",
       "      <td>5</td>\n",
       "      <td>900 Nm</td>\n",
       "    </tr>\n",
       "    <tr>\n",
       "      <th>2</th>\n",
       "      <td>Ford</td>\n",
       "      <td>KA+</td>\n",
       "      <td>1.2L Petrol</td>\n",
       "      <td>1,200 cc</td>\n",
       "      <td>70-85 hp</td>\n",
       "      <td>165 km/h</td>\n",
       "      <td>10.5 sec</td>\n",
       "      <td>$12,000-$15,000</td>\n",
       "      <td>Petrol</td>\n",
       "      <td>5</td>\n",
       "      <td>100 - 140 Nm</td>\n",
       "    </tr>\n",
       "    <tr>\n",
       "      <th>3</th>\n",
       "      <td>MERCEDES</td>\n",
       "      <td>GT 63 S</td>\n",
       "      <td>V8</td>\n",
       "      <td>3,982 cc</td>\n",
       "      <td>630 hp</td>\n",
       "      <td>250 km/h</td>\n",
       "      <td>NaN</td>\n",
       "      <td>NaN</td>\n",
       "      <td>Petrol</td>\n",
       "      <td>4</td>\n",
       "      <td>900 Nm</td>\n",
       "    </tr>\n",
       "    <tr>\n",
       "      <th>4</th>\n",
       "      <td>AUDI</td>\n",
       "      <td>AUDI R8 Gt</td>\n",
       "      <td>V10</td>\n",
       "      <td>5,204 cc</td>\n",
       "      <td>NaN</td>\n",
       "      <td>320 km/h</td>\n",
       "      <td>3.6 sec</td>\n",
       "      <td>$253,290</td>\n",
       "      <td>Petrol</td>\n",
       "      <td>2</td>\n",
       "      <td>560 Nm</td>\n",
       "    </tr>\n",
       "    <tr>\n",
       "      <th>5</th>\n",
       "      <td>BMW</td>\n",
       "      <td>Mclaren 720s</td>\n",
       "      <td>V8</td>\n",
       "      <td>3,994 cc</td>\n",
       "      <td>710 hp</td>\n",
       "      <td>341 km/h</td>\n",
       "      <td>2.9 sec</td>\n",
       "      <td>$499,000</td>\n",
       "      <td>Petrol</td>\n",
       "      <td>2</td>\n",
       "      <td>770 Nm</td>\n",
       "    </tr>\n",
       "    <tr>\n",
       "      <th>6</th>\n",
       "      <td>ASTON MARTIN</td>\n",
       "      <td>VANTAGE F1</td>\n",
       "      <td>V8</td>\n",
       "      <td>3,982 cc</td>\n",
       "      <td>656 hp</td>\n",
       "      <td>314 km/h</td>\n",
       "      <td>3.6 sec</td>\n",
       "      <td>$193,440</td>\n",
       "      <td>Petrol</td>\n",
       "      <td>2</td>\n",
       "      <td>685 Nm</td>\n",
       "    </tr>\n",
       "    <tr>\n",
       "      <th>7</th>\n",
       "      <td>BENTLEY</td>\n",
       "      <td>Continental GT Azure</td>\n",
       "      <td>V8</td>\n",
       "      <td>NaN</td>\n",
       "      <td>NaN</td>\n",
       "      <td>318 km/h</td>\n",
       "      <td>4.0 sec</td>\n",
       "      <td>$311,000</td>\n",
       "      <td>Petrol</td>\n",
       "      <td>4</td>\n",
       "      <td>900 Nm</td>\n",
       "    </tr>\n",
       "    <tr>\n",
       "      <th>8</th>\n",
       "      <td>LAMBORGHINI</td>\n",
       "      <td>VENENO ROADSTER</td>\n",
       "      <td>NaN</td>\n",
       "      <td>6,498 cc</td>\n",
       "      <td>750 hp</td>\n",
       "      <td>356 km/h</td>\n",
       "      <td>NaN</td>\n",
       "      <td>$4,500,000</td>\n",
       "      <td>Petrol</td>\n",
       "      <td>2</td>\n",
       "      <td>690 Nm</td>\n",
       "    </tr>\n",
       "    <tr>\n",
       "      <th>9</th>\n",
       "      <td>FERRARI</td>\n",
       "      <td>NaN</td>\n",
       "      <td>V8</td>\n",
       "      <td>3,900 cc</td>\n",
       "      <td>710 hp</td>\n",
       "      <td>340 km/h</td>\n",
       "      <td>2.9 sec</td>\n",
       "      <td>$280,000</td>\n",
       "      <td>Petrol</td>\n",
       "      <td>2</td>\n",
       "      <td>770 Nm</td>\n",
       "    </tr>\n",
       "  </tbody>\n",
       "</table>\n",
       "</div>"
      ],
      "text/plain": [
       "  Company Names            Cars Names      Engines CC/Battery Capacity  \\\n",
       "0       FERRARI         SF90 STRADALE           V8             3990 cc   \n",
       "1   ROLLS ROYCE               PHANTOM          V12                 NaN   \n",
       "2          Ford                   KA+  1.2L Petrol            1,200 cc   \n",
       "3      MERCEDES               GT 63 S           V8            3,982 cc   \n",
       "4          AUDI            AUDI R8 Gt          V10            5,204 cc   \n",
       "5           BMW          Mclaren 720s           V8            3,994 cc   \n",
       "6  ASTON MARTIN            VANTAGE F1           V8            3,982 cc   \n",
       "7       BENTLEY  Continental GT Azure           V8                 NaN   \n",
       "8   LAMBORGHINI       VENENO ROADSTER          NaN            6,498 cc   \n",
       "9       FERRARI                   NaN           V8            3,900 cc   \n",
       "\n",
       "  HorsePower Total Speed Performance(0 - 100 )KM/H      Cars Prices  \\\n",
       "0     963 hp    340 km/h                   2.5 sec      $1,100,000    \n",
       "1     563 hp    250 km/h                   5.3 sec        $460,000    \n",
       "2   70-85 hp    165 km/h                  10.5 sec  $12,000-$15,000   \n",
       "3     630 hp    250 km/h                       NaN              NaN   \n",
       "4        NaN    320 km/h                   3.6 sec        $253,290    \n",
       "5     710 hp    341 km/h                   2.9 sec        $499,000    \n",
       "6     656 hp    314 km/h                   3.6 sec        $193,440    \n",
       "7        NaN    318 km/h                   4.0 sec        $311,000    \n",
       "8     750 hp    356 km/h                       NaN      $4,500,000    \n",
       "9     710 hp    340 km/h                   2.9 sec        $280,000    \n",
       "\n",
       "        Fuel Types Seats        Torque  \n",
       "0  plug in hyrbrid     2        800 Nm  \n",
       "1           Petrol     5        900 Nm  \n",
       "2           Petrol     5  100 - 140 Nm  \n",
       "3           Petrol     4        900 Nm  \n",
       "4           Petrol     2        560 Nm  \n",
       "5           Petrol     2        770 Nm  \n",
       "6           Petrol     2        685 Nm  \n",
       "7           Petrol     4        900 Nm  \n",
       "8           Petrol     2        690 Nm  \n",
       "9           Petrol     2        770 Nm  "
      ]
     },
     "execution_count": 2,
     "metadata": {},
     "output_type": "execute_result"
    }
   ],
   "source": [
    "dataset = pd.read_csv(r\"C:\\Users\\SACHIN\\OneDrive\\Desktop\\Data cleaning\\cardataset.csv\", encoding='ISO-8859-1')\n",
    "dataset.head(10)"
   ]
  },
  {
   "cell_type": "markdown",
   "id": "4d00d5bc",
   "metadata": {},
   "source": [
    "To get the no. of rows and columns "
   ]
  },
  {
   "cell_type": "code",
   "execution_count": 3,
   "id": "1695bef3",
   "metadata": {},
   "outputs": [
    {
     "data": {
      "text/plain": [
       "(1218, 11)"
      ]
     },
     "execution_count": 3,
     "metadata": {},
     "output_type": "execute_result"
    }
   ],
   "source": [
    "dataset.shape"
   ]
  },
  {
   "cell_type": "markdown",
   "id": "712c9ec7",
   "metadata": {},
   "source": [
    "Extracting the missing values in the dataset."
   ]
  },
  {
   "cell_type": "code",
   "execution_count": 4,
   "id": "bf487459",
   "metadata": {},
   "outputs": [
    {
     "data": {
      "text/plain": [
       "Company Names                 1\n",
       "Cars Names                    4\n",
       "Engines                       5\n",
       "CC/Battery Capacity          11\n",
       "HorsePower                    9\n",
       "Total Speed                   5\n",
       "Performance(0 - 100 )KM/H    17\n",
       "Cars Prices                  12\n",
       "Fuel Types                    7\n",
       "Seats                         6\n",
       "Torque                        4\n",
       "dtype: int64"
      ]
     },
     "execution_count": 4,
     "metadata": {},
     "output_type": "execute_result"
    }
   ],
   "source": [
    "dataset.isnull().sum()"
   ]
  },
  {
   "cell_type": "markdown",
   "id": "7b502576",
   "metadata": {},
   "source": [
    "Percentage of missing values in each column data."
   ]
  },
  {
   "cell_type": "code",
   "execution_count": 5,
   "id": "577e21ee",
   "metadata": {},
   "outputs": [
    {
     "data": {
      "text/plain": [
       "Company Names                0.082102\n",
       "Cars Names                   0.328407\n",
       "Engines                      0.410509\n",
       "CC/Battery Capacity          0.903120\n",
       "HorsePower                   0.738916\n",
       "Total Speed                  0.410509\n",
       "Performance(0 - 100 )KM/H    1.395731\n",
       "Cars Prices                  0.985222\n",
       "Fuel Types                   0.574713\n",
       "Seats                        0.492611\n",
       "Torque                       0.328407\n",
       "dtype: float64"
      ]
     },
     "execution_count": 5,
     "metadata": {},
     "output_type": "execute_result"
    }
   ],
   "source": [
    "((dataset.isnull().sum())/(dataset.shape[0]))*100"
   ]
  },
  {
   "cell_type": "markdown",
   "id": "46722b4d",
   "metadata": {},
   "source": [
    "Total missing values in the dataset."
   ]
  },
  {
   "cell_type": "code",
   "execution_count": 6,
   "id": "e6bd11cf",
   "metadata": {},
   "outputs": [
    {
     "data": {
      "text/plain": [
       "np.int64(81)"
      ]
     },
     "execution_count": 6,
     "metadata": {},
     "output_type": "execute_result"
    }
   ],
   "source": [
    "dataset.isnull().sum().sum()"
   ]
  },
  {
   "cell_type": "markdown",
   "id": "d87faa50",
   "metadata": {},
   "source": [
    "A graph plot for identifying the missing values of each column in the dataset."
   ]
  },
  {
   "cell_type": "code",
   "execution_count": 7,
   "id": "13f1d603",
   "metadata": {},
   "outputs": [
    {
     "data": {
      "image/png": "[encoded data removed]",
      "text/plain": [
       "<Figure size 640x480 with 2 Axes>"
      ]
     },
     "metadata": {},
     "output_type": "display_data"
    }
   ],
   "source": [
    "sns.heatmap(dataset.isnull())\n",
    "plt.show()"
   ]
  },
  {
   "cell_type": "markdown",
   "id": "9cad17e0",
   "metadata": {},
   "source": [
    "Total percentage of missing values in the dataset."
   ]
  },
  {
   "cell_type": "code",
   "execution_count": 8,
   "id": "e3a796f5",
   "metadata": {},
   "outputs": [
    {
     "data": {
      "text/plain": [
       "np.float64(0.6045678459471563)"
      ]
     },
     "execution_count": 8,
     "metadata": {},
     "output_type": "execute_result"
    }
   ],
   "source": [
    "((dataset.isnull().sum().sum())/(dataset.shape[0]*dataset.shape[1]))*100"
   ]
  },
  {
   "cell_type": "markdown",
   "id": "68314931",
   "metadata": {},
   "source": [
    "To identify the datatypes of the column data."
   ]
  },
  {
   "cell_type": "code",
   "execution_count": 9,
   "id": "d4264017",
   "metadata": {},
   "outputs": [
    {
     "name": "stdout",
     "output_type": "stream",
     "text": [
      "<class 'pandas.core.frame.DataFrame'>\n",
      "RangeIndex: 1218 entries, 0 to 1217\n",
      "Data columns (total 11 columns):\n",
      " #   Column                     Non-Null Count  Dtype \n",
      "---  ------                     --------------  ----- \n",
      " 0   Company Names              1217 non-null   object\n",
      " 1   Cars Names                 1214 non-null   object\n",
      " 2   Engines                    1213 non-null   object\n",
      " 3   CC/Battery Capacity        1207 non-null   object\n",
      " 4   HorsePower                 1209 non-null   object\n",
      " 5   Total Speed                1213 non-null   object\n",
      " 6   Performance(0 - 100 )KM/H  1201 non-null   object\n",
      " 7   Cars Prices                1206 non-null   object\n",
      " 8   Fuel Types                 1211 non-null   object\n",
      " 9   Seats                      1212 non-null   object\n",
      " 10  Torque                     1214 non-null   object\n",
      "dtypes: object(11)\n",
      "memory usage: 104.8+ KB\n"
     ]
    }
   ],
   "source": [
    "dataset.info()"
   ]
  },
  {
   "cell_type": "code",
   "execution_count": 10,
   "id": "9c0c7228",
   "metadata": {},
   "outputs": [
    {
     "data": {
      "text/html": [
       "<div>\n",
       "<style scoped>\n",
       "    .dataframe tbody tr th:only-of-type {\n",
       "        vertical-align: middle;\n",
       "    }\n",
       "\n",
       "    .dataframe tbody tr th {\n",
       "        vertical-align: top;\n",
       "    }\n",
       "\n",
       "    .dataframe thead th {\n",
       "        text-align: right;\n",
       "    }\n",
       "</style>\n",
       "<table border=\"1\" class=\"dataframe\">\n",
       "  <thead>\n",
       "    <tr style=\"text-align: right;\">\n",
       "      <th></th>\n",
       "      <th>Company Names</th>\n",
       "      <th>Cars Names</th>\n",
       "      <th>Engines</th>\n",
       "      <th>CC/Battery Capacity</th>\n",
       "      <th>HorsePower</th>\n",
       "      <th>Total Speed</th>\n",
       "      <th>Performance(0 - 100 )KM/H</th>\n",
       "      <th>Cars Prices</th>\n",
       "      <th>Fuel Types</th>\n",
       "      <th>Seats</th>\n",
       "      <th>Torque</th>\n",
       "    </tr>\n",
       "  </thead>\n",
       "  <tbody>\n",
       "    <tr>\n",
       "      <th>0</th>\n",
       "      <td>FERRARI</td>\n",
       "      <td>SF90 STRADALE</td>\n",
       "      <td>V8</td>\n",
       "      <td>3990 cc</td>\n",
       "      <td>963 hp</td>\n",
       "      <td>340 km/h</td>\n",
       "      <td>2.5 sec</td>\n",
       "      <td>$1,100,000</td>\n",
       "      <td>plug in hyrbrid</td>\n",
       "      <td>2</td>\n",
       "      <td>800 Nm</td>\n",
       "    </tr>\n",
       "    <tr>\n",
       "      <th>1</th>\n",
       "      <td>ROLLS ROYCE</td>\n",
       "      <td>PHANTOM</td>\n",
       "      <td>V12</td>\n",
       "      <td>NaN</td>\n",
       "      <td>563 hp</td>\n",
       "      <td>250 km/h</td>\n",
       "      <td>5.3 sec</td>\n",
       "      <td>$460,000</td>\n",
       "      <td>Petrol</td>\n",
       "      <td>5</td>\n",
       "      <td>900 Nm</td>\n",
       "    </tr>\n",
       "    <tr>\n",
       "      <th>2</th>\n",
       "      <td>Ford</td>\n",
       "      <td>KA+</td>\n",
       "      <td>1.2L Petrol</td>\n",
       "      <td>1,200 cc</td>\n",
       "      <td>70-85 hp</td>\n",
       "      <td>165 km/h</td>\n",
       "      <td>10.5 sec</td>\n",
       "      <td>$12,000-$15,000</td>\n",
       "      <td>Petrol</td>\n",
       "      <td>5</td>\n",
       "      <td>100 - 140 Nm</td>\n",
       "    </tr>\n",
       "    <tr>\n",
       "      <th>3</th>\n",
       "      <td>MERCEDES</td>\n",
       "      <td>GT 63 S</td>\n",
       "      <td>V8</td>\n",
       "      <td>3,982 cc</td>\n",
       "      <td>630 hp</td>\n",
       "      <td>250 km/h</td>\n",
       "      <td>NaN</td>\n",
       "      <td>NaN</td>\n",
       "      <td>Petrol</td>\n",
       "      <td>4</td>\n",
       "      <td>900 Nm</td>\n",
       "    </tr>\n",
       "    <tr>\n",
       "      <th>4</th>\n",
       "      <td>AUDI</td>\n",
       "      <td>AUDI R8 Gt</td>\n",
       "      <td>V10</td>\n",
       "      <td>5,204 cc</td>\n",
       "      <td>NaN</td>\n",
       "      <td>320 km/h</td>\n",
       "      <td>3.6 sec</td>\n",
       "      <td>$253,290</td>\n",
       "      <td>Petrol</td>\n",
       "      <td>2</td>\n",
       "      <td>560 Nm</td>\n",
       "    </tr>\n",
       "  </tbody>\n",
       "</table>\n",
       "</div>"
      ],
      "text/plain": [
       "  Company Names     Cars Names      Engines CC/Battery Capacity HorsePower  \\\n",
       "0       FERRARI  SF90 STRADALE           V8             3990 cc     963 hp   \n",
       "1   ROLLS ROYCE        PHANTOM          V12                 NaN     563 hp   \n",
       "2          Ford            KA+  1.2L Petrol            1,200 cc   70-85 hp   \n",
       "3      MERCEDES        GT 63 S           V8            3,982 cc     630 hp   \n",
       "4          AUDI     AUDI R8 Gt          V10            5,204 cc        NaN   \n",
       "\n",
       "  Total Speed Performance(0 - 100 )KM/H      Cars Prices       Fuel Types  \\\n",
       "0    340 km/h                   2.5 sec      $1,100,000   plug in hyrbrid   \n",
       "1    250 km/h                   5.3 sec        $460,000            Petrol   \n",
       "2    165 km/h                  10.5 sec  $12,000-$15,000           Petrol   \n",
       "3    250 km/h                       NaN              NaN           Petrol   \n",
       "4    320 km/h                   3.6 sec        $253,290            Petrol   \n",
       "\n",
       "  Seats        Torque  \n",
       "0     2        800 Nm  \n",
       "1     5        900 Nm  \n",
       "2     5  100 - 140 Nm  \n",
       "3     4        900 Nm  \n",
       "4     2        560 Nm  "
      ]
     },
     "execution_count": 10,
     "metadata": {},
     "output_type": "execute_result"
    }
   ],
   "source": [
    "dataset.head(5)"
   ]
  },
  {
   "cell_type": "markdown",
   "id": "121262da",
   "metadata": {},
   "source": [
    "To convert object data to numeric data for handling data in our convenient manner."
   ]
  },
  {
   "cell_type": "code",
   "execution_count": 11,
   "id": "ad62d4d1",
   "metadata": {},
   "outputs": [],
   "source": [
    "target_columns = ['CC/Battery Capacity','HorsePower','Total Speed','Performance(0 - 100 )KM/H','Cars Prices','Seats','Torque']\n",
    "for col in target_columns:\n",
    "    dataset[col] = dataset[col].astype(str) \\\n",
    "                     .str.replace(r'[^0-9.]', '', regex=True) \\\n",
    "                     .replace('', '0')  \n",
    "\n",
    "    dataset[col] = pd.to_numeric(dataset[col], errors='coerce')"
   ]
  },
  {
   "cell_type": "code",
   "execution_count": 12,
   "id": "3cacfa2b",
   "metadata": {},
   "outputs": [
    {
     "data": {
      "text/html": [
       "<div>\n",
       "<style scoped>\n",
       "    .dataframe tbody tr th:only-of-type {\n",
       "        vertical-align: middle;\n",
       "    }\n",
       "\n",
       "    .dataframe tbody tr th {\n",
       "        vertical-align: top;\n",
       "    }\n",
       "\n",
       "    .dataframe thead th {\n",
       "        text-align: right;\n",
       "    }\n",
       "</style>\n",
       "<table border=\"1\" class=\"dataframe\">\n",
       "  <thead>\n",
       "    <tr style=\"text-align: right;\">\n",
       "      <th></th>\n",
       "      <th>Company Names</th>\n",
       "      <th>Cars Names</th>\n",
       "      <th>Engines</th>\n",
       "      <th>CC/Battery Capacity</th>\n",
       "      <th>HorsePower</th>\n",
       "      <th>Total Speed</th>\n",
       "      <th>Performance(0 - 100 )KM/H</th>\n",
       "      <th>Cars Prices</th>\n",
       "      <th>Fuel Types</th>\n",
       "      <th>Seats</th>\n",
       "      <th>Torque</th>\n",
       "    </tr>\n",
       "  </thead>\n",
       "  <tbody>\n",
       "    <tr>\n",
       "      <th>0</th>\n",
       "      <td>FERRARI</td>\n",
       "      <td>SF90 STRADALE</td>\n",
       "      <td>V8</td>\n",
       "      <td>3990.0</td>\n",
       "      <td>963.0</td>\n",
       "      <td>340.0</td>\n",
       "      <td>2.5</td>\n",
       "      <td>1100000</td>\n",
       "      <td>plug in hyrbrid</td>\n",
       "      <td>2</td>\n",
       "      <td>800</td>\n",
       "    </tr>\n",
       "    <tr>\n",
       "      <th>1</th>\n",
       "      <td>ROLLS ROYCE</td>\n",
       "      <td>PHANTOM</td>\n",
       "      <td>V12</td>\n",
       "      <td>0.0</td>\n",
       "      <td>563.0</td>\n",
       "      <td>250.0</td>\n",
       "      <td>5.3</td>\n",
       "      <td>460000</td>\n",
       "      <td>Petrol</td>\n",
       "      <td>5</td>\n",
       "      <td>900</td>\n",
       "    </tr>\n",
       "    <tr>\n",
       "      <th>2</th>\n",
       "      <td>Ford</td>\n",
       "      <td>KA+</td>\n",
       "      <td>1.2L Petrol</td>\n",
       "      <td>1200.0</td>\n",
       "      <td>7085.0</td>\n",
       "      <td>165.0</td>\n",
       "      <td>10.5</td>\n",
       "      <td>1200015000</td>\n",
       "      <td>Petrol</td>\n",
       "      <td>5</td>\n",
       "      <td>100140</td>\n",
       "    </tr>\n",
       "    <tr>\n",
       "      <th>3</th>\n",
       "      <td>MERCEDES</td>\n",
       "      <td>GT 63 S</td>\n",
       "      <td>V8</td>\n",
       "      <td>3982.0</td>\n",
       "      <td>630.0</td>\n",
       "      <td>250.0</td>\n",
       "      <td>0.0</td>\n",
       "      <td>0</td>\n",
       "      <td>Petrol</td>\n",
       "      <td>4</td>\n",
       "      <td>900</td>\n",
       "    </tr>\n",
       "    <tr>\n",
       "      <th>4</th>\n",
       "      <td>AUDI</td>\n",
       "      <td>AUDI R8 Gt</td>\n",
       "      <td>V10</td>\n",
       "      <td>5204.0</td>\n",
       "      <td>0.0</td>\n",
       "      <td>320.0</td>\n",
       "      <td>3.6</td>\n",
       "      <td>253290</td>\n",
       "      <td>Petrol</td>\n",
       "      <td>2</td>\n",
       "      <td>560</td>\n",
       "    </tr>\n",
       "    <tr>\n",
       "      <th>5</th>\n",
       "      <td>BMW</td>\n",
       "      <td>Mclaren 720s</td>\n",
       "      <td>V8</td>\n",
       "      <td>3994.0</td>\n",
       "      <td>710.0</td>\n",
       "      <td>341.0</td>\n",
       "      <td>2.9</td>\n",
       "      <td>499000</td>\n",
       "      <td>Petrol</td>\n",
       "      <td>2</td>\n",
       "      <td>770</td>\n",
       "    </tr>\n",
       "    <tr>\n",
       "      <th>6</th>\n",
       "      <td>ASTON MARTIN</td>\n",
       "      <td>VANTAGE F1</td>\n",
       "      <td>V8</td>\n",
       "      <td>3982.0</td>\n",
       "      <td>656.0</td>\n",
       "      <td>314.0</td>\n",
       "      <td>3.6</td>\n",
       "      <td>193440</td>\n",
       "      <td>Petrol</td>\n",
       "      <td>2</td>\n",
       "      <td>685</td>\n",
       "    </tr>\n",
       "    <tr>\n",
       "      <th>7</th>\n",
       "      <td>BENTLEY</td>\n",
       "      <td>Continental GT Azure</td>\n",
       "      <td>V8</td>\n",
       "      <td>0.0</td>\n",
       "      <td>0.0</td>\n",
       "      <td>318.0</td>\n",
       "      <td>4.0</td>\n",
       "      <td>311000</td>\n",
       "      <td>Petrol</td>\n",
       "      <td>4</td>\n",
       "      <td>900</td>\n",
       "    </tr>\n",
       "    <tr>\n",
       "      <th>8</th>\n",
       "      <td>LAMBORGHINI</td>\n",
       "      <td>VENENO ROADSTER</td>\n",
       "      <td>NaN</td>\n",
       "      <td>6498.0</td>\n",
       "      <td>750.0</td>\n",
       "      <td>356.0</td>\n",
       "      <td>0.0</td>\n",
       "      <td>4500000</td>\n",
       "      <td>Petrol</td>\n",
       "      <td>2</td>\n",
       "      <td>690</td>\n",
       "    </tr>\n",
       "    <tr>\n",
       "      <th>9</th>\n",
       "      <td>FERRARI</td>\n",
       "      <td>NaN</td>\n",
       "      <td>V8</td>\n",
       "      <td>3900.0</td>\n",
       "      <td>710.0</td>\n",
       "      <td>340.0</td>\n",
       "      <td>2.9</td>\n",
       "      <td>280000</td>\n",
       "      <td>Petrol</td>\n",
       "      <td>2</td>\n",
       "      <td>770</td>\n",
       "    </tr>\n",
       "  </tbody>\n",
       "</table>\n",
       "</div>"
      ],
      "text/plain": [
       "  Company Names            Cars Names      Engines  CC/Battery Capacity  \\\n",
       "0       FERRARI         SF90 STRADALE           V8               3990.0   \n",
       "1   ROLLS ROYCE               PHANTOM          V12                  0.0   \n",
       "2          Ford                   KA+  1.2L Petrol               1200.0   \n",
       "3      MERCEDES               GT 63 S           V8               3982.0   \n",
       "4          AUDI            AUDI R8 Gt          V10               5204.0   \n",
       "5           BMW          Mclaren 720s           V8               3994.0   \n",
       "6  ASTON MARTIN            VANTAGE F1           V8               3982.0   \n",
       "7       BENTLEY  Continental GT Azure           V8                  0.0   \n",
       "8   LAMBORGHINI       VENENO ROADSTER          NaN               6498.0   \n",
       "9       FERRARI                   NaN           V8               3900.0   \n",
       "\n",
       "   HorsePower  Total Speed  Performance(0 - 100 )KM/H  Cars Prices  \\\n",
       "0       963.0        340.0                        2.5      1100000   \n",
       "1       563.0        250.0                        5.3       460000   \n",
       "2      7085.0        165.0                       10.5   1200015000   \n",
       "3       630.0        250.0                        0.0            0   \n",
       "4         0.0        320.0                        3.6       253290   \n",
       "5       710.0        341.0                        2.9       499000   \n",
       "6       656.0        314.0                        3.6       193440   \n",
       "7         0.0        318.0                        4.0       311000   \n",
       "8       750.0        356.0                        0.0      4500000   \n",
       "9       710.0        340.0                        2.9       280000   \n",
       "\n",
       "        Fuel Types  Seats  Torque  \n",
       "0  plug in hyrbrid      2     800  \n",
       "1           Petrol      5     900  \n",
       "2           Petrol      5  100140  \n",
       "3           Petrol      4     900  \n",
       "4           Petrol      2     560  \n",
       "5           Petrol      2     770  \n",
       "6           Petrol      2     685  \n",
       "7           Petrol      4     900  \n",
       "8           Petrol      2     690  \n",
       "9           Petrol      2     770  "
      ]
     },
     "execution_count": 12,
     "metadata": {},
     "output_type": "execute_result"
    }
   ],
   "source": [
    "dataset.head(10)"
   ]
  },
  {
   "cell_type": "code",
   "execution_count": 13,
   "id": "76987251",
   "metadata": {},
   "outputs": [
    {
     "name": "stdout",
     "output_type": "stream",
     "text": [
      "<class 'pandas.core.frame.DataFrame'>\n",
      "RangeIndex: 1218 entries, 0 to 1217\n",
      "Data columns (total 11 columns):\n",
      " #   Column                     Non-Null Count  Dtype  \n",
      "---  ------                     --------------  -----  \n",
      " 0   Company Names              1217 non-null   object \n",
      " 1   Cars Names                 1214 non-null   object \n",
      " 2   Engines                    1213 non-null   object \n",
      " 3   CC/Battery Capacity        1216 non-null   float64\n",
      " 4   HorsePower                 1218 non-null   float64\n",
      " 5   Total Speed                1218 non-null   float64\n",
      " 6   Performance(0 - 100 )KM/H  1208 non-null   float64\n",
      " 7   Cars Prices                1218 non-null   int64  \n",
      " 8   Fuel Types                 1211 non-null   object \n",
      " 9   Seats                      1218 non-null   int64  \n",
      " 10  Torque                     1218 non-null   int64  \n",
      "dtypes: float64(4), int64(3), object(4)\n",
      "memory usage: 104.8+ KB\n"
     ]
    }
   ],
   "source": [
    "dataset.info()"
   ]
  },
  {
   "cell_type": "markdown",
   "id": "592c80c0",
   "metadata": {},
   "source": [
    "To fill data in object datatype :- "
   ]
  },
  {
   "cell_type": "code",
   "execution_count": 14,
   "id": "1c69ff9a",
   "metadata": {},
   "outputs": [],
   "source": [
    "for i in dataset.select_dtypes(include=\"object\").columns :\n",
    "    dataset[i] = dataset[i].fillna(dataset[i].mode()[0])"
   ]
  },
  {
   "cell_type": "code",
   "execution_count": 15,
   "id": "3c2acd86",
   "metadata": {},
   "outputs": [
    {
     "data": {
      "text/plain": [
       "Company Names                 0\n",
       "Cars Names                    0\n",
       "Engines                       0\n",
       "CC/Battery Capacity           2\n",
       "HorsePower                    0\n",
       "Total Speed                   0\n",
       "Performance(0 - 100 )KM/H    10\n",
       "Cars Prices                   0\n",
       "Fuel Types                    0\n",
       "Seats                         0\n",
       "Torque                        0\n",
       "dtype: int64"
      ]
     },
     "execution_count": 15,
     "metadata": {},
     "output_type": "execute_result"
    }
   ],
   "source": [
    "dataset.isnull().sum()"
   ]
  },
  {
   "cell_type": "markdown",
   "id": "60cd1042",
   "metadata": {},
   "source": [
    "Only two columns have missing values. We select only those columns for operation."
   ]
  },
  {
   "cell_type": "code",
   "execution_count": 16,
   "id": "b0aa5aa0",
   "metadata": {},
   "outputs": [
    {
     "name": "stdout",
     "output_type": "stream",
     "text": [
      "<class 'pandas.core.frame.DataFrame'>\n",
      "RangeIndex: 1218 entries, 0 to 1217\n",
      "Data columns (total 11 columns):\n",
      " #   Column                     Non-Null Count  Dtype  \n",
      "---  ------                     --------------  -----  \n",
      " 0   Company Names              1218 non-null   object \n",
      " 1   Cars Names                 1218 non-null   object \n",
      " 2   Engines                    1218 non-null   object \n",
      " 3   CC/Battery Capacity        1216 non-null   float64\n",
      " 4   HorsePower                 1218 non-null   float64\n",
      " 5   Total Speed                1218 non-null   float64\n",
      " 6   Performance(0 - 100 )KM/H  1208 non-null   float64\n",
      " 7   Cars Prices                1218 non-null   int64  \n",
      " 8   Fuel Types                 1218 non-null   object \n",
      " 9   Seats                      1218 non-null   int64  \n",
      " 10  Torque                     1218 non-null   int64  \n",
      "dtypes: float64(4), int64(3), object(4)\n",
      "memory usage: 104.8+ KB\n"
     ]
    }
   ],
   "source": [
    "dataset.info()"
   ]
  },
  {
   "cell_type": "code",
   "execution_count": 17,
   "id": "a33ff4ec",
   "metadata": {},
   "outputs": [
    {
     "data": {
      "text/plain": [
       "Index(['CC/Battery Capacity', 'HorsePower', 'Total Speed',\n",
       "       'Performance(0 - 100 )KM/H'],\n",
       "      dtype='object')"
      ]
     },
     "execution_count": 17,
     "metadata": {},
     "output_type": "execute_result"
    }
   ],
   "source": [
    "dataset.select_dtypes(include=\"float64\").columns"
   ]
  },
  {
   "cell_type": "code",
   "execution_count": 18,
   "id": "3d5f2202",
   "metadata": {},
   "outputs": [],
   "source": [
    "from sklearn.impute import SimpleImputer"
   ]
  },
  {
   "cell_type": "code",
   "execution_count": 19,
   "id": "ec90387e",
   "metadata": {},
   "outputs": [],
   "source": [
    "si=SimpleImputer(strategy=\"mean\")\n",
    "ar=si.fit_transform(dataset[['CC/Battery Capacity','Performance(0 - 100 )KM/H']])"
   ]
  },
  {
   "cell_type": "code",
   "execution_count": 20,
   "id": "608d2c3b",
   "metadata": {},
   "outputs": [],
   "source": [
    "new_df = pd.DataFrame(ar)\n",
    "new_df.columns=['CC/Battery Capacity','Performance(0 - 100 )KM/H']"
   ]
  },
  {
   "cell_type": "code",
   "execution_count": 21,
   "id": "f1bc032d",
   "metadata": {},
   "outputs": [
    {
     "data": {
      "text/plain": [
       "CC/Battery Capacity          0\n",
       "Performance(0 - 100 )KM/H    0\n",
       "dtype: int64"
      ]
     },
     "execution_count": 21,
     "metadata": {},
     "output_type": "execute_result"
    }
   ],
   "source": [
    "new_df.isnull().sum()"
   ]
  },
  {
   "cell_type": "markdown",
   "id": "ecc5bf9d",
   "metadata": {},
   "source": [
    "Update these datas to the old dataset"
   ]
  },
  {
   "cell_type": "code",
   "execution_count": 22,
   "id": "56de9ab6",
   "metadata": {},
   "outputs": [],
   "source": [
    "dataset.update(new_df)"
   ]
  },
  {
   "cell_type": "markdown",
   "id": "8a052b02",
   "metadata": {},
   "source": [
    "We check whether all the missing values are encountered."
   ]
  },
  {
   "cell_type": "code",
   "execution_count": 23,
   "id": "f8de9e53",
   "metadata": {},
   "outputs": [
    {
     "data": {
      "text/plain": [
       "Company Names                0\n",
       "Cars Names                   0\n",
       "Engines                      0\n",
       "CC/Battery Capacity          0\n",
       "HorsePower                   0\n",
       "Total Speed                  0\n",
       "Performance(0 - 100 )KM/H    0\n",
       "Cars Prices                  0\n",
       "Fuel Types                   0\n",
       "Seats                        0\n",
       "Torque                       0\n",
       "dtype: int64"
      ]
     },
     "execution_count": 23,
     "metadata": {},
     "output_type": "execute_result"
    }
   ],
   "source": [
    "dataset.isnull().sum()"
   ]
  },
  {
   "cell_type": "markdown",
   "id": "cde08c0f",
   "metadata": {},
   "source": [
    "Therefore, we encountered all the missing values in the dataset."
   ]
  },
  {
   "cell_type": "code",
   "execution_count": 24,
   "id": "fbb456ca",
   "metadata": {},
   "outputs": [
    {
     "data": {
      "image/png": "[encoded data removed]",
      "text/plain": [
       "<Figure size 640x480 with 2 Axes>"
      ]
     },
     "metadata": {},
     "output_type": "display_data"
    }
   ],
   "source": [
    "sns.heatmap(dataset.isnull())\n",
    "plt.show()"
   ]
  },
  {
   "cell_type": "markdown",
   "id": "e685f21b",
   "metadata": {},
   "source": [
    "To remove outliers."
   ]
  },
  {
   "cell_type": "code",
   "execution_count": 25,
   "id": "a0c6b93e",
   "metadata": {},
   "outputs": [
    {
     "data": {
      "text/html": [
       "<div>\n",
       "<style scoped>\n",
       "    .dataframe tbody tr th:only-of-type {\n",
       "        vertical-align: middle;\n",
       "    }\n",
       "\n",
       "    .dataframe tbody tr th {\n",
       "        vertical-align: top;\n",
       "    }\n",
       "\n",
       "    .dataframe thead th {\n",
       "        text-align: right;\n",
       "    }\n",
       "</style>\n",
       "<table border=\"1\" class=\"dataframe\">\n",
       "  <thead>\n",
       "    <tr style=\"text-align: right;\">\n",
       "      <th></th>\n",
       "      <th>CC/Battery Capacity</th>\n",
       "      <th>HorsePower</th>\n",
       "      <th>Total Speed</th>\n",
       "      <th>Performance(0 - 100 )KM/H</th>\n",
       "      <th>Cars Prices</th>\n",
       "      <th>Seats</th>\n",
       "      <th>Torque</th>\n",
       "    </tr>\n",
       "  </thead>\n",
       "  <tbody>\n",
       "    <tr>\n",
       "      <th>count</th>\n",
       "      <td>1.218000e+03</td>\n",
       "      <td>1218.000000</td>\n",
       "      <td>1218.000000</td>\n",
       "      <td>1218.000000</td>\n",
       "      <td>1.218000e+03</td>\n",
       "      <td>1218.000000</td>\n",
       "      <td>1.218000e+03</td>\n",
       "    </tr>\n",
       "    <tr>\n",
       "      <th>mean</th>\n",
       "      <td>1.569545e+07</td>\n",
       "      <td>11296.664204</td>\n",
       "      <td>215.465517</td>\n",
       "      <td>7.489901</td>\n",
       "      <td>4.140209e+10</td>\n",
       "      <td>5.381773</td>\n",
       "      <td>2.027518e+04</td>\n",
       "    </tr>\n",
       "    <tr>\n",
       "      <th>std</th>\n",
       "      <td>1.714261e+08</td>\n",
       "      <td>45530.550590</td>\n",
       "      <td>54.766653</td>\n",
       "      <td>3.403731</td>\n",
       "      <td>1.432661e+12</td>\n",
       "      <td>8.990796</td>\n",
       "      <td>3.635572e+05</td>\n",
       "    </tr>\n",
       "    <tr>\n",
       "      <th>min</th>\n",
       "      <td>0.000000e+00</td>\n",
       "      <td>0.000000</td>\n",
       "      <td>0.000000</td>\n",
       "      <td>0.000000</td>\n",
       "      <td>0.000000e+00</td>\n",
       "      <td>0.000000</td>\n",
       "      <td>0.000000e+00</td>\n",
       "    </tr>\n",
       "    <tr>\n",
       "      <th>25%</th>\n",
       "      <td>1.591000e+03</td>\n",
       "      <td>164.250000</td>\n",
       "      <td>180.000000</td>\n",
       "      <td>5.200000</td>\n",
       "      <td>3.262500e+04</td>\n",
       "      <td>4.000000</td>\n",
       "      <td>2.500000e+02</td>\n",
       "    </tr>\n",
       "    <tr>\n",
       "      <th>50%</th>\n",
       "      <td>2.488000e+03</td>\n",
       "      <td>285.000000</td>\n",
       "      <td>200.000000</td>\n",
       "      <td>7.100000</td>\n",
       "      <td>5.385000e+04</td>\n",
       "      <td>5.000000</td>\n",
       "      <td>3.810000e+02</td>\n",
       "    </tr>\n",
       "    <tr>\n",
       "      <th>75%</th>\n",
       "      <td>3.996000e+03</td>\n",
       "      <td>450.000000</td>\n",
       "      <td>250.000000</td>\n",
       "      <td>9.500000</td>\n",
       "      <td>1.420000e+05</td>\n",
       "      <td>5.000000</td>\n",
       "      <td>5.800000e+02</td>\n",
       "    </tr>\n",
       "    <tr>\n",
       "      <th>max</th>\n",
       "      <td>1.999430e+09</td>\n",
       "      <td>450475.000000</td>\n",
       "      <td>500.000000</td>\n",
       "      <td>35.000000</td>\n",
       "      <td>5.000001e+13</td>\n",
       "      <td>215.000000</td>\n",
       "      <td>1.050120e+07</td>\n",
       "    </tr>\n",
       "  </tbody>\n",
       "</table>\n",
       "</div>"
      ],
      "text/plain": [
       "       CC/Battery Capacity     HorsePower  Total Speed  \\\n",
       "count         1.218000e+03    1218.000000  1218.000000   \n",
       "mean          1.569545e+07   11296.664204   215.465517   \n",
       "std           1.714261e+08   45530.550590    54.766653   \n",
       "min           0.000000e+00       0.000000     0.000000   \n",
       "25%           1.591000e+03     164.250000   180.000000   \n",
       "50%           2.488000e+03     285.000000   200.000000   \n",
       "75%           3.996000e+03     450.000000   250.000000   \n",
       "max           1.999430e+09  450475.000000   500.000000   \n",
       "\n",
       "       Performance(0 - 100 )KM/H   Cars Prices        Seats        Torque  \n",
       "count                1218.000000  1.218000e+03  1218.000000  1.218000e+03  \n",
       "mean                    7.489901  4.140209e+10     5.381773  2.027518e+04  \n",
       "std                     3.403731  1.432661e+12     8.990796  3.635572e+05  \n",
       "min                     0.000000  0.000000e+00     0.000000  0.000000e+00  \n",
       "25%                     5.200000  3.262500e+04     4.000000  2.500000e+02  \n",
       "50%                     7.100000  5.385000e+04     5.000000  3.810000e+02  \n",
       "75%                     9.500000  1.420000e+05     5.000000  5.800000e+02  \n",
       "max                    35.000000  5.000001e+13   215.000000  1.050120e+07  "
      ]
     },
     "execution_count": 25,
     "metadata": {},
     "output_type": "execute_result"
    }
   ],
   "source": [
    "dataset.describe()"
   ]
  },
  {
   "cell_type": "markdown",
   "id": "3a5186d4",
   "metadata": {},
   "source": [
    "To remove outliers using \"quantile\"."
   ]
  },
  {
   "cell_type": "code",
   "execution_count": 26,
   "id": "102e3e13",
   "metadata": {},
   "outputs": [
    {
     "data": {
      "image/png": "[encoded data removed]",
      "text/plain": [
       "<Figure size 640x480 with 1 Axes>"
      ]
     },
     "metadata": {},
     "output_type": "display_data"
    }
   ],
   "source": [
    "sns.boxplot(x=\"HorsePower\",data=dataset)\n",
    "plt.show()"
   ]
  },
  {
   "cell_type": "code",
   "execution_count": 27,
   "id": "f4c64dfc",
   "metadata": {},
   "outputs": [],
   "source": [
    "q1=dataset[\"HorsePower\"].quantile(0.25)\n",
    "q2=dataset[\"HorsePower\"].quantile(0.75)"
   ]
  },
  {
   "cell_type": "code",
   "execution_count": 28,
   "id": "b4fb1e05",
   "metadata": {},
   "outputs": [],
   "source": [
    "IQR=q2-q1"
   ]
  },
  {
   "cell_type": "code",
   "execution_count": 29,
   "id": "457bcc32",
   "metadata": {},
   "outputs": [
    {
     "data": {
      "text/plain": [
       "(np.float64(-264.375), np.float64(878.625))"
      ]
     },
     "execution_count": 29,
     "metadata": {},
     "output_type": "execute_result"
    }
   ],
   "source": [
    "min_range=q1-(1.5*IQR)\n",
    "max_range=q2+(1.5*IQR)\n",
    "min_range,max_range"
   ]
  },
  {
   "cell_type": "code",
   "execution_count": 30,
   "id": "8896ba85",
   "metadata": {},
   "outputs": [],
   "source": [
    "new_data=dataset[dataset[\"HorsePower\"]<=max_range]"
   ]
  },
  {
   "cell_type": "code",
   "execution_count": 31,
   "id": "3ef285a2",
   "metadata": {},
   "outputs": [
    {
     "data": {
      "image/png": "[encoded data removed]",
      "text/plain": [
       "<Figure size 640x480 with 1 Axes>"
      ]
     },
     "metadata": {},
     "output_type": "display_data"
    }
   ],
   "source": [
    "sns.boxplot(x=\"HorsePower\",data=new_data)\n",
    "plt.show()"
   ]
  },
  {
   "cell_type": "markdown",
   "id": "e63b3d47",
   "metadata": {},
   "source": [
    "To remove outliers using \"z-score\" and \"direct method\"."
   ]
  },
  {
   "cell_type": "code",
   "execution_count": 32,
   "id": "34ecf49d",
   "metadata": {},
   "outputs": [
    {
     "data": {
      "image/png": "[encoded data removed]",
      "text/plain": [
       "<Figure size 640x480 with 1 Axes>"
      ]
     },
     "metadata": {},
     "output_type": "display_data"
    }
   ],
   "source": [
    "sns.boxplot(x=\"Seats\",data=dataset)\n",
    "plt.show()"
   ]
  },
  {
   "cell_type": "markdown",
   "id": "d96b3477",
   "metadata": {},
   "source": [
    "z-score method."
   ]
  },
  {
   "cell_type": "code",
   "execution_count": 33,
   "id": "e905a139",
   "metadata": {},
   "outputs": [],
   "source": [
    "z_score=(dataset[\"Seats\"]-dataset[\"Seats\"].mean())/(dataset[\"Seats\"].std())"
   ]
  },
  {
   "cell_type": "code",
   "execution_count": 34,
   "id": "453ae506",
   "metadata": {},
   "outputs": [],
   "source": [
    "dataset[\"z_score\"]=z_score"
   ]
  },
  {
   "cell_type": "code",
   "execution_count": 35,
   "id": "8e14efae",
   "metadata": {},
   "outputs": [
    {
     "data": {
      "text/html": [
       "<div>\n",
       "<style scoped>\n",
       "    .dataframe tbody tr th:only-of-type {\n",
       "        vertical-align: middle;\n",
       "    }\n",
       "\n",
       "    .dataframe tbody tr th {\n",
       "        vertical-align: top;\n",
       "    }\n",
       "\n",
       "    .dataframe thead th {\n",
       "        text-align: right;\n",
       "    }\n",
       "</style>\n",
       "<table border=\"1\" class=\"dataframe\">\n",
       "  <thead>\n",
       "    <tr style=\"text-align: right;\">\n",
       "      <th></th>\n",
       "      <th>Company Names</th>\n",
       "      <th>Cars Names</th>\n",
       "      <th>Engines</th>\n",
       "      <th>CC/Battery Capacity</th>\n",
       "      <th>HorsePower</th>\n",
       "      <th>Total Speed</th>\n",
       "      <th>Performance(0 - 100 )KM/H</th>\n",
       "      <th>Cars Prices</th>\n",
       "      <th>Fuel Types</th>\n",
       "      <th>Seats</th>\n",
       "      <th>Torque</th>\n",
       "      <th>z_score</th>\n",
       "    </tr>\n",
       "  </thead>\n",
       "  <tbody>\n",
       "    <tr>\n",
       "      <th>0</th>\n",
       "      <td>FERRARI</td>\n",
       "      <td>SF90 STRADALE</td>\n",
       "      <td>V8</td>\n",
       "      <td>3990.0</td>\n",
       "      <td>963.0</td>\n",
       "      <td>340.0</td>\n",
       "      <td>2.5</td>\n",
       "      <td>1100000</td>\n",
       "      <td>plug in hyrbrid</td>\n",
       "      <td>2</td>\n",
       "      <td>800</td>\n",
       "      <td>-0.376137</td>\n",
       "    </tr>\n",
       "    <tr>\n",
       "      <th>4</th>\n",
       "      <td>AUDI</td>\n",
       "      <td>AUDI R8 Gt</td>\n",
       "      <td>V10</td>\n",
       "      <td>5204.0</td>\n",
       "      <td>0.0</td>\n",
       "      <td>320.0</td>\n",
       "      <td>3.6</td>\n",
       "      <td>253290</td>\n",
       "      <td>Petrol</td>\n",
       "      <td>2</td>\n",
       "      <td>560</td>\n",
       "      <td>-0.376137</td>\n",
       "    </tr>\n",
       "    <tr>\n",
       "      <th>5</th>\n",
       "      <td>BMW</td>\n",
       "      <td>Mclaren 720s</td>\n",
       "      <td>V8</td>\n",
       "      <td>3994.0</td>\n",
       "      <td>710.0</td>\n",
       "      <td>341.0</td>\n",
       "      <td>2.9</td>\n",
       "      <td>499000</td>\n",
       "      <td>Petrol</td>\n",
       "      <td>2</td>\n",
       "      <td>770</td>\n",
       "      <td>-0.376137</td>\n",
       "    </tr>\n",
       "    <tr>\n",
       "      <th>6</th>\n",
       "      <td>ASTON MARTIN</td>\n",
       "      <td>VANTAGE F1</td>\n",
       "      <td>V8</td>\n",
       "      <td>3982.0</td>\n",
       "      <td>656.0</td>\n",
       "      <td>314.0</td>\n",
       "      <td>3.6</td>\n",
       "      <td>193440</td>\n",
       "      <td>Petrol</td>\n",
       "      <td>2</td>\n",
       "      <td>685</td>\n",
       "      <td>-0.376137</td>\n",
       "    </tr>\n",
       "    <tr>\n",
       "      <th>8</th>\n",
       "      <td>LAMBORGHINI</td>\n",
       "      <td>VENENO ROADSTER</td>\n",
       "      <td>I4</td>\n",
       "      <td>6498.0</td>\n",
       "      <td>750.0</td>\n",
       "      <td>356.0</td>\n",
       "      <td>0.0</td>\n",
       "      <td>4500000</td>\n",
       "      <td>Petrol</td>\n",
       "      <td>2</td>\n",
       "      <td>690</td>\n",
       "      <td>-0.376137</td>\n",
       "    </tr>\n",
       "    <tr>\n",
       "      <th>...</th>\n",
       "      <td>...</td>\n",
       "      <td>...</td>\n",
       "      <td>...</td>\n",
       "      <td>...</td>\n",
       "      <td>...</td>\n",
       "      <td>...</td>\n",
       "      <td>...</td>\n",
       "      <td>...</td>\n",
       "      <td>...</td>\n",
       "      <td>...</td>\n",
       "      <td>...</td>\n",
       "      <td>...</td>\n",
       "    </tr>\n",
       "    <tr>\n",
       "      <th>1204</th>\n",
       "      <td>Mazda</td>\n",
       "      <td>Porter</td>\n",
       "      <td>1.5L Inline-4</td>\n",
       "      <td>1497.0</td>\n",
       "      <td>95.0</td>\n",
       "      <td>130.0</td>\n",
       "      <td>14.0</td>\n",
       "      <td>1200015000</td>\n",
       "      <td>Petrol</td>\n",
       "      <td>2</td>\n",
       "      <td>130</td>\n",
       "      <td>-0.376137</td>\n",
       "    </tr>\n",
       "    <tr>\n",
       "      <th>1206</th>\n",
       "      <td>Mazda</td>\n",
       "      <td>MX-5 Superlight Concept</td>\n",
       "      <td>1.8L Inline-4</td>\n",
       "      <td>1798.0</td>\n",
       "      <td>143.0</td>\n",
       "      <td>200.0</td>\n",
       "      <td>7.5</td>\n",
       "      <td>3000035000</td>\n",
       "      <td>Petrol</td>\n",
       "      <td>2</td>\n",
       "      <td>160</td>\n",
       "      <td>-0.376137</td>\n",
       "    </tr>\n",
       "    <tr>\n",
       "      <th>1208</th>\n",
       "      <td>Mazda</td>\n",
       "      <td>Bongo Truck</td>\n",
       "      <td>2.0L Inline-4</td>\n",
       "      <td>1998.0</td>\n",
       "      <td>120.0</td>\n",
       "      <td>130.0</td>\n",
       "      <td>15.0</td>\n",
       "      <td>1500018000</td>\n",
       "      <td>Petrol</td>\n",
       "      <td>2</td>\n",
       "      <td>150</td>\n",
       "      <td>-0.376137</td>\n",
       "    </tr>\n",
       "    <tr>\n",
       "      <th>1209</th>\n",
       "      <td>Mazda</td>\n",
       "      <td>Rotary Pickup</td>\n",
       "      <td>1.3L Wankel Rotary Engine</td>\n",
       "      <td>1308.0</td>\n",
       "      <td>130.0</td>\n",
       "      <td>150.0</td>\n",
       "      <td>14.5</td>\n",
       "      <td>1800022000</td>\n",
       "      <td>Petrol</td>\n",
       "      <td>2</td>\n",
       "      <td>160</td>\n",
       "      <td>-0.376137</td>\n",
       "    </tr>\n",
       "    <tr>\n",
       "      <th>1212</th>\n",
       "      <td>Mazda</td>\n",
       "      <td>787B (Race Car)</td>\n",
       "      <td>2.6L Wankel Rotary Engine</td>\n",
       "      <td>2620.0</td>\n",
       "      <td>700.0</td>\n",
       "      <td>320.0</td>\n",
       "      <td>3.5</td>\n",
       "      <td>50000007000000</td>\n",
       "      <td>Petrol</td>\n",
       "      <td>1</td>\n",
       "      <td>500</td>\n",
       "      <td>-0.487362</td>\n",
       "    </tr>\n",
       "  </tbody>\n",
       "</table>\n",
       "<p>144 rows × 12 columns</p>\n",
       "</div>"
      ],
      "text/plain": [
       "     Company Names               Cars Names                    Engines  \\\n",
       "0          FERRARI            SF90 STRADALE                         V8   \n",
       "4             AUDI               AUDI R8 Gt                        V10   \n",
       "5              BMW             Mclaren 720s                         V8   \n",
       "6     ASTON MARTIN               VANTAGE F1                         V8   \n",
       "8      LAMBORGHINI          VENENO ROADSTER                         I4   \n",
       "...            ...                      ...                        ...   \n",
       "1204         Mazda                   Porter              1.5L Inline-4   \n",
       "1206         Mazda  MX-5 Superlight Concept              1.8L Inline-4   \n",
       "1208         Mazda              Bongo Truck              2.0L Inline-4   \n",
       "1209         Mazda            Rotary Pickup  1.3L Wankel Rotary Engine   \n",
       "1212         Mazda          787B (Race Car)  2.6L Wankel Rotary Engine   \n",
       "\n",
       "      CC/Battery Capacity  HorsePower  Total Speed  Performance(0 - 100 )KM/H  \\\n",
       "0                  3990.0       963.0        340.0                        2.5   \n",
       "4                  5204.0         0.0        320.0                        3.6   \n",
       "5                  3994.0       710.0        341.0                        2.9   \n",
       "6                  3982.0       656.0        314.0                        3.6   \n",
       "8                  6498.0       750.0        356.0                        0.0   \n",
       "...                   ...         ...          ...                        ...   \n",
       "1204               1497.0        95.0        130.0                       14.0   \n",
       "1206               1798.0       143.0        200.0                        7.5   \n",
       "1208               1998.0       120.0        130.0                       15.0   \n",
       "1209               1308.0       130.0        150.0                       14.5   \n",
       "1212               2620.0       700.0        320.0                        3.5   \n",
       "\n",
       "         Cars Prices       Fuel Types  Seats  Torque   z_score  \n",
       "0            1100000  plug in hyrbrid      2     800 -0.376137  \n",
       "4             253290           Petrol      2     560 -0.376137  \n",
       "5             499000           Petrol      2     770 -0.376137  \n",
       "6             193440           Petrol      2     685 -0.376137  \n",
       "8            4500000           Petrol      2     690 -0.376137  \n",
       "...              ...              ...    ...     ...       ...  \n",
       "1204      1200015000           Petrol      2     130 -0.376137  \n",
       "1206      3000035000           Petrol      2     160 -0.376137  \n",
       "1208      1500018000           Petrol      2     150 -0.376137  \n",
       "1209      1800022000           Petrol      2     160 -0.376137  \n",
       "1212  50000007000000           Petrol      1     500 -0.487362  \n",
       "\n",
       "[144 rows x 12 columns]"
      ]
     },
     "execution_count": 35,
     "metadata": {},
     "output_type": "execute_result"
    }
   ],
   "source": [
    "dataset[dataset[\"Seats\"]<3]"
   ]
  },
  {
   "cell_type": "markdown",
   "id": "c66beb5e",
   "metadata": {},
   "source": [
    "Direct method."
   ]
  },
  {
   "cell_type": "code",
   "execution_count": 36,
   "id": "c7d7db1b",
   "metadata": {},
   "outputs": [
    {
     "data": {
      "text/plain": [
       "(np.float64(-21.590613928836238), np.float64(32.35416072686579))"
      ]
     },
     "execution_count": 36,
     "metadata": {},
     "output_type": "execute_result"
    }
   ],
   "source": [
    "min_range=dataset[\"Seats\"].mean()-(3*dataset[\"Seats\"].std())\n",
    "max_range=dataset[\"Seats\"].mean()+(3*dataset[\"Seats\"].std())\n",
    "min_range,max_range"
   ]
  },
  {
   "cell_type": "code",
   "execution_count": 37,
   "id": "3d2590c3",
   "metadata": {},
   "outputs": [],
   "source": [
    "new_data1=dataset[dataset[\"Seats\"]<=max_range]"
   ]
  },
  {
   "cell_type": "code",
   "execution_count": 38,
   "id": "72aa5339",
   "metadata": {},
   "outputs": [
    {
     "data": {
      "image/png": "[encoded data removed]",
      "text/plain": [
       "<Figure size 640x480 with 1 Axes>"
      ]
     },
     "metadata": {},
     "output_type": "display_data"
    }
   ],
   "source": [
    "sns.boxplot(x=\"Seats\",data=new_data1)\n",
    "plt.show()"
   ]
  },
  {
   "cell_type": "markdown",
   "id": "a30a106b",
   "metadata": {},
   "source": [
    "Here, direct method and z-score method gives exactly same result. For a better understanding, we used direct method for graph plotting."
   ]
  },
  {
   "cell_type": "code",
   "execution_count": 39,
   "id": "6a2ea8bb",
   "metadata": {},
   "outputs": [
    {
     "data": {
      "text/html": [
       "<div>\n",
       "<style scoped>\n",
       "    .dataframe tbody tr th:only-of-type {\n",
       "        vertical-align: middle;\n",
       "    }\n",
       "\n",
       "    .dataframe tbody tr th {\n",
       "        vertical-align: top;\n",
       "    }\n",
       "\n",
       "    .dataframe thead th {\n",
       "        text-align: right;\n",
       "    }\n",
       "</style>\n",
       "<table border=\"1\" class=\"dataframe\">\n",
       "  <thead>\n",
       "    <tr style=\"text-align: right;\">\n",
       "      <th></th>\n",
       "      <th>CC/Battery Capacity</th>\n",
       "      <th>HorsePower</th>\n",
       "      <th>Total Speed</th>\n",
       "      <th>Performance(0 - 100 )KM/H</th>\n",
       "      <th>Cars Prices</th>\n",
       "      <th>Seats</th>\n",
       "      <th>Torque</th>\n",
       "      <th>z_score</th>\n",
       "    </tr>\n",
       "  </thead>\n",
       "  <tbody>\n",
       "    <tr>\n",
       "      <th>count</th>\n",
       "      <td>1.218000e+03</td>\n",
       "      <td>1218.000000</td>\n",
       "      <td>1218.000000</td>\n",
       "      <td>1218.000000</td>\n",
       "      <td>1.218000e+03</td>\n",
       "      <td>1218.000000</td>\n",
       "      <td>1.218000e+03</td>\n",
       "      <td>1.218000e+03</td>\n",
       "    </tr>\n",
       "    <tr>\n",
       "      <th>mean</th>\n",
       "      <td>1.569545e+07</td>\n",
       "      <td>11296.664204</td>\n",
       "      <td>215.465517</td>\n",
       "      <td>7.489901</td>\n",
       "      <td>4.140209e+10</td>\n",
       "      <td>5.381773</td>\n",
       "      <td>2.027518e+04</td>\n",
       "      <td>-2.333474e-17</td>\n",
       "    </tr>\n",
       "    <tr>\n",
       "      <th>std</th>\n",
       "      <td>1.714261e+08</td>\n",
       "      <td>45530.550590</td>\n",
       "      <td>54.766653</td>\n",
       "      <td>3.403731</td>\n",
       "      <td>1.432661e+12</td>\n",
       "      <td>8.990796</td>\n",
       "      <td>3.635572e+05</td>\n",
       "      <td>1.000000e+00</td>\n",
       "    </tr>\n",
       "    <tr>\n",
       "      <th>min</th>\n",
       "      <td>0.000000e+00</td>\n",
       "      <td>0.000000</td>\n",
       "      <td>0.000000</td>\n",
       "      <td>0.000000</td>\n",
       "      <td>0.000000e+00</td>\n",
       "      <td>0.000000</td>\n",
       "      <td>0.000000e+00</td>\n",
       "      <td>-5.985870e-01</td>\n",
       "    </tr>\n",
       "    <tr>\n",
       "      <th>25%</th>\n",
       "      <td>1.591000e+03</td>\n",
       "      <td>164.250000</td>\n",
       "      <td>180.000000</td>\n",
       "      <td>5.200000</td>\n",
       "      <td>3.262500e+04</td>\n",
       "      <td>4.000000</td>\n",
       "      <td>2.500000e+02</td>\n",
       "      <td>-1.536876e-01</td>\n",
       "    </tr>\n",
       "    <tr>\n",
       "      <th>50%</th>\n",
       "      <td>2.488000e+03</td>\n",
       "      <td>285.000000</td>\n",
       "      <td>200.000000</td>\n",
       "      <td>7.100000</td>\n",
       "      <td>5.385000e+04</td>\n",
       "      <td>5.000000</td>\n",
       "      <td>3.810000e+02</td>\n",
       "      <td>-4.246269e-02</td>\n",
       "    </tr>\n",
       "    <tr>\n",
       "      <th>75%</th>\n",
       "      <td>3.996000e+03</td>\n",
       "      <td>450.000000</td>\n",
       "      <td>250.000000</td>\n",
       "      <td>9.500000</td>\n",
       "      <td>1.420000e+05</td>\n",
       "      <td>5.000000</td>\n",
       "      <td>5.800000e+02</td>\n",
       "      <td>-4.246269e-02</td>\n",
       "    </tr>\n",
       "    <tr>\n",
       "      <th>max</th>\n",
       "      <td>1.999430e+09</td>\n",
       "      <td>450475.000000</td>\n",
       "      <td>500.000000</td>\n",
       "      <td>35.000000</td>\n",
       "      <td>5.000001e+13</td>\n",
       "      <td>215.000000</td>\n",
       "      <td>1.050120e+07</td>\n",
       "      <td>2.331476e+01</td>\n",
       "    </tr>\n",
       "  </tbody>\n",
       "</table>\n",
       "</div>"
      ],
      "text/plain": [
       "       CC/Battery Capacity     HorsePower  Total Speed  \\\n",
       "count         1.218000e+03    1218.000000  1218.000000   \n",
       "mean          1.569545e+07   11296.664204   215.465517   \n",
       "std           1.714261e+08   45530.550590    54.766653   \n",
       "min           0.000000e+00       0.000000     0.000000   \n",
       "25%           1.591000e+03     164.250000   180.000000   \n",
       "50%           2.488000e+03     285.000000   200.000000   \n",
       "75%           3.996000e+03     450.000000   250.000000   \n",
       "max           1.999430e+09  450475.000000   500.000000   \n",
       "\n",
       "       Performance(0 - 100 )KM/H   Cars Prices        Seats        Torque  \\\n",
       "count                1218.000000  1.218000e+03  1218.000000  1.218000e+03   \n",
       "mean                    7.489901  4.140209e+10     5.381773  2.027518e+04   \n",
       "std                     3.403731  1.432661e+12     8.990796  3.635572e+05   \n",
       "min                     0.000000  0.000000e+00     0.000000  0.000000e+00   \n",
       "25%                     5.200000  3.262500e+04     4.000000  2.500000e+02   \n",
       "50%                     7.100000  5.385000e+04     5.000000  3.810000e+02   \n",
       "75%                     9.500000  1.420000e+05     5.000000  5.800000e+02   \n",
       "max                    35.000000  5.000001e+13   215.000000  1.050120e+07   \n",
       "\n",
       "            z_score  \n",
       "count  1.218000e+03  \n",
       "mean  -2.333474e-17  \n",
       "std    1.000000e+00  \n",
       "min   -5.985870e-01  \n",
       "25%   -1.536876e-01  \n",
       "50%   -4.246269e-02  \n",
       "75%   -4.246269e-02  \n",
       "max    2.331476e+01  "
      ]
     },
     "execution_count": 39,
     "metadata": {},
     "output_type": "execute_result"
    }
   ],
   "source": [
    "dataset.describe()"
   ]
  },
  {
   "cell_type": "markdown",
   "id": "0329cfce",
   "metadata": {},
   "source": [
    "Standardization."
   ]
  },
  {
   "cell_type": "code",
   "execution_count": 40,
   "id": "e7e95f18",
   "metadata": {},
   "outputs": [],
   "source": [
    "from sklearn.preprocessing import StandardScaler"
   ]
  },
  {
   "cell_type": "code",
   "execution_count": 41,
   "id": "19be80cd",
   "metadata": {},
   "outputs": [],
   "source": [
    "ss=StandardScaler()\n",
    "dataset[\"Total Speed_ss\"]=pd.DataFrame(ss.fit_transform(dataset[[\"Total Speed\"]]),columns=[\"x\"])"
   ]
  },
  {
   "cell_type": "code",
   "execution_count": 42,
   "id": "4de1d8b3",
   "metadata": {},
   "outputs": [
    {
     "data": {
      "text/html": [
       "<div>\n",
       "<style scoped>\n",
       "    .dataframe tbody tr th:only-of-type {\n",
       "        vertical-align: middle;\n",
       "    }\n",
       "\n",
       "    .dataframe tbody tr th {\n",
       "        vertical-align: top;\n",
       "    }\n",
       "\n",
       "    .dataframe thead th {\n",
       "        text-align: right;\n",
       "    }\n",
       "</style>\n",
       "<table border=\"1\" class=\"dataframe\">\n",
       "  <thead>\n",
       "    <tr style=\"text-align: right;\">\n",
       "      <th></th>\n",
       "      <th>Company Names</th>\n",
       "      <th>Cars Names</th>\n",
       "      <th>Engines</th>\n",
       "      <th>CC/Battery Capacity</th>\n",
       "      <th>HorsePower</th>\n",
       "      <th>Total Speed</th>\n",
       "      <th>Performance(0 - 100 )KM/H</th>\n",
       "      <th>Cars Prices</th>\n",
       "      <th>Fuel Types</th>\n",
       "      <th>Seats</th>\n",
       "      <th>Torque</th>\n",
       "      <th>z_score</th>\n",
       "      <th>Total Speed_ss</th>\n",
       "    </tr>\n",
       "  </thead>\n",
       "  <tbody>\n",
       "    <tr>\n",
       "      <th>0</th>\n",
       "      <td>FERRARI</td>\n",
       "      <td>SF90 STRADALE</td>\n",
       "      <td>V8</td>\n",
       "      <td>3990.0</td>\n",
       "      <td>963.0</td>\n",
       "      <td>340.0</td>\n",
       "      <td>2.5</td>\n",
       "      <td>1100000</td>\n",
       "      <td>plug in hyrbrid</td>\n",
       "      <td>2</td>\n",
       "      <td>800</td>\n",
       "      <td>-0.376137</td>\n",
       "      <td>2.274845</td>\n",
       "    </tr>\n",
       "    <tr>\n",
       "      <th>1</th>\n",
       "      <td>ROLLS ROYCE</td>\n",
       "      <td>PHANTOM</td>\n",
       "      <td>V12</td>\n",
       "      <td>0.0</td>\n",
       "      <td>563.0</td>\n",
       "      <td>250.0</td>\n",
       "      <td>5.3</td>\n",
       "      <td>460000</td>\n",
       "      <td>Petrol</td>\n",
       "      <td>5</td>\n",
       "      <td>900</td>\n",
       "      <td>-0.042463</td>\n",
       "      <td>0.630834</td>\n",
       "    </tr>\n",
       "    <tr>\n",
       "      <th>2</th>\n",
       "      <td>Ford</td>\n",
       "      <td>KA+</td>\n",
       "      <td>1.2L Petrol</td>\n",
       "      <td>1200.0</td>\n",
       "      <td>7085.0</td>\n",
       "      <td>165.0</td>\n",
       "      <td>10.5</td>\n",
       "      <td>1200015000</td>\n",
       "      <td>Petrol</td>\n",
       "      <td>5</td>\n",
       "      <td>100140</td>\n",
       "      <td>-0.042463</td>\n",
       "      <td>-0.921843</td>\n",
       "    </tr>\n",
       "    <tr>\n",
       "      <th>3</th>\n",
       "      <td>MERCEDES</td>\n",
       "      <td>GT 63 S</td>\n",
       "      <td>V8</td>\n",
       "      <td>3982.0</td>\n",
       "      <td>630.0</td>\n",
       "      <td>250.0</td>\n",
       "      <td>0.0</td>\n",
       "      <td>0</td>\n",
       "      <td>Petrol</td>\n",
       "      <td>4</td>\n",
       "      <td>900</td>\n",
       "      <td>-0.153688</td>\n",
       "      <td>0.630834</td>\n",
       "    </tr>\n",
       "    <tr>\n",
       "      <th>4</th>\n",
       "      <td>AUDI</td>\n",
       "      <td>AUDI R8 Gt</td>\n",
       "      <td>V10</td>\n",
       "      <td>5204.0</td>\n",
       "      <td>0.0</td>\n",
       "      <td>320.0</td>\n",
       "      <td>3.6</td>\n",
       "      <td>253290</td>\n",
       "      <td>Petrol</td>\n",
       "      <td>2</td>\n",
       "      <td>560</td>\n",
       "      <td>-0.376137</td>\n",
       "      <td>1.909509</td>\n",
       "    </tr>\n",
       "  </tbody>\n",
       "</table>\n",
       "</div>"
      ],
      "text/plain": [
       "  Company Names     Cars Names      Engines  CC/Battery Capacity  HorsePower  \\\n",
       "0       FERRARI  SF90 STRADALE           V8               3990.0       963.0   \n",
       "1   ROLLS ROYCE        PHANTOM          V12                  0.0       563.0   \n",
       "2          Ford            KA+  1.2L Petrol               1200.0      7085.0   \n",
       "3      MERCEDES        GT 63 S           V8               3982.0       630.0   \n",
       "4          AUDI     AUDI R8 Gt          V10               5204.0         0.0   \n",
       "\n",
       "   Total Speed  Performance(0 - 100 )KM/H  Cars Prices       Fuel Types  \\\n",
       "0        340.0                        2.5      1100000  plug in hyrbrid   \n",
       "1        250.0                        5.3       460000           Petrol   \n",
       "2        165.0                       10.5   1200015000           Petrol   \n",
       "3        250.0                        0.0            0           Petrol   \n",
       "4        320.0                        3.6       253290           Petrol   \n",
       "\n",
       "   Seats  Torque   z_score  Total Speed_ss  \n",
       "0      2     800 -0.376137        2.274845  \n",
       "1      5     900 -0.042463        0.630834  \n",
       "2      5  100140 -0.042463       -0.921843  \n",
       "3      4     900 -0.153688        0.630834  \n",
       "4      2     560 -0.376137        1.909509  "
      ]
     },
     "execution_count": 42,
     "metadata": {},
     "output_type": "execute_result"
    }
   ],
   "source": [
    "dataset.head(5)"
   ]
  },
  {
   "cell_type": "code",
   "execution_count": 43,
   "id": "83b4adf1",
   "metadata": {},
   "outputs": [
    {
     "name": "stderr",
     "output_type": "stream",
     "text": [
      "C:\\Users\\SACHIN\\AppData\\Local\\Temp\\ipykernel_20080\\1260947012.py:3: UserWarning: \n",
      "\n",
      "`distplot` is a deprecated function and will be removed in seaborn v0.14.0.\n",
      "\n",
      "Please adapt your code to use either `displot` (a figure-level function with\n",
      "similar flexibility) or `histplot` (an axes-level function for histograms).\n",
      "\n",
      "For a guide to updating your code to use the new functions, please see\n",
      "https://gist.github.com/mwaskom/de44147ed2974457ad6372750bbe5751\n",
      "\n",
      "  sns.distplot(dataset[\"Total Speed\"])\n",
      "C:\\Users\\SACHIN\\AppData\\Local\\Temp\\ipykernel_20080\\1260947012.py:6: UserWarning: \n",
      "\n",
      "`distplot` is a deprecated function and will be removed in seaborn v0.14.0.\n",
      "\n",
      "Please adapt your code to use either `displot` (a figure-level function with\n",
      "similar flexibility) or `histplot` (an axes-level function for histograms).\n",
      "\n",
      "For a guide to updating your code to use the new functions, please see\n",
      "https://gist.github.com/mwaskom/de44147ed2974457ad6372750bbe5751\n",
      "\n",
      "  sns.distplot(dataset[\"Total Speed_ss\"])\n"
     ]
    },
    {
     "data": {
      "image/png": "[encoded data removed]",
      "text/plain": [
       "<Figure size 640x480 with 2 Axes>"
      ]
     },
     "metadata": {},
     "output_type": "display_data"
    }
   ],
   "source": [
    "plt.subplot(1,2,1)\n",
    "plt.title(\"Before\")\n",
    "sns.distplot(dataset[\"Total Speed\"])\n",
    "plt.subplot(1,2,2)\n",
    "plt.title(\"After\")\n",
    "sns.distplot(dataset[\"Total Speed_ss\"])\n",
    "plt.show()"
   ]
  },
  {
   "cell_type": "markdown",
   "id": "179e2ab8",
   "metadata": {},
   "source": [
    "Normalization."
   ]
  },
  {
   "cell_type": "code",
   "execution_count": 44,
   "id": "c77f5719",
   "metadata": {},
   "outputs": [
    {
     "data": {
      "text/html": [
       "<div>\n",
       "<style scoped>\n",
       "    .dataframe tbody tr th:only-of-type {\n",
       "        vertical-align: middle;\n",
       "    }\n",
       "\n",
       "    .dataframe tbody tr th {\n",
       "        vertical-align: top;\n",
       "    }\n",
       "\n",
       "    .dataframe thead th {\n",
       "        text-align: right;\n",
       "    }\n",
       "</style>\n",
       "<table border=\"1\" class=\"dataframe\">\n",
       "  <thead>\n",
       "    <tr style=\"text-align: right;\">\n",
       "      <th></th>\n",
       "      <th>Company Names</th>\n",
       "      <th>Cars Names</th>\n",
       "      <th>Engines</th>\n",
       "      <th>CC/Battery Capacity</th>\n",
       "      <th>HorsePower</th>\n",
       "      <th>Total Speed</th>\n",
       "      <th>Performance(0 - 100 )KM/H</th>\n",
       "      <th>Cars Prices</th>\n",
       "      <th>Fuel Types</th>\n",
       "      <th>Seats</th>\n",
       "      <th>Torque</th>\n",
       "      <th>z_score</th>\n",
       "      <th>Total Speed_ss</th>\n",
       "    </tr>\n",
       "  </thead>\n",
       "  <tbody>\n",
       "    <tr>\n",
       "      <th>0</th>\n",
       "      <td>FERRARI</td>\n",
       "      <td>SF90 STRADALE</td>\n",
       "      <td>V8</td>\n",
       "      <td>3990.0</td>\n",
       "      <td>963.0</td>\n",
       "      <td>340.0</td>\n",
       "      <td>2.5</td>\n",
       "      <td>1100000</td>\n",
       "      <td>plug in hyrbrid</td>\n",
       "      <td>2</td>\n",
       "      <td>800</td>\n",
       "      <td>-0.376137</td>\n",
       "      <td>2.274845</td>\n",
       "    </tr>\n",
       "    <tr>\n",
       "      <th>1</th>\n",
       "      <td>ROLLS ROYCE</td>\n",
       "      <td>PHANTOM</td>\n",
       "      <td>V12</td>\n",
       "      <td>0.0</td>\n",
       "      <td>563.0</td>\n",
       "      <td>250.0</td>\n",
       "      <td>5.3</td>\n",
       "      <td>460000</td>\n",
       "      <td>Petrol</td>\n",
       "      <td>5</td>\n",
       "      <td>900</td>\n",
       "      <td>-0.042463</td>\n",
       "      <td>0.630834</td>\n",
       "    </tr>\n",
       "    <tr>\n",
       "      <th>2</th>\n",
       "      <td>Ford</td>\n",
       "      <td>KA+</td>\n",
       "      <td>1.2L Petrol</td>\n",
       "      <td>1200.0</td>\n",
       "      <td>7085.0</td>\n",
       "      <td>165.0</td>\n",
       "      <td>10.5</td>\n",
       "      <td>1200015000</td>\n",
       "      <td>Petrol</td>\n",
       "      <td>5</td>\n",
       "      <td>100140</td>\n",
       "      <td>-0.042463</td>\n",
       "      <td>-0.921843</td>\n",
       "    </tr>\n",
       "  </tbody>\n",
       "</table>\n",
       "</div>"
      ],
      "text/plain": [
       "  Company Names     Cars Names      Engines  CC/Battery Capacity  HorsePower  \\\n",
       "0       FERRARI  SF90 STRADALE           V8               3990.0       963.0   \n",
       "1   ROLLS ROYCE        PHANTOM          V12                  0.0       563.0   \n",
       "2          Ford            KA+  1.2L Petrol               1200.0      7085.0   \n",
       "\n",
       "   Total Speed  Performance(0 - 100 )KM/H  Cars Prices       Fuel Types  \\\n",
       "0        340.0                        2.5      1100000  plug in hyrbrid   \n",
       "1        250.0                        5.3       460000           Petrol   \n",
       "2        165.0                       10.5   1200015000           Petrol   \n",
       "\n",
       "   Seats  Torque   z_score  Total Speed_ss  \n",
       "0      2     800 -0.376137        2.274845  \n",
       "1      5     900 -0.042463        0.630834  \n",
       "2      5  100140 -0.042463       -0.921843  "
      ]
     },
     "execution_count": 44,
     "metadata": {},
     "output_type": "execute_result"
    }
   ],
   "source": [
    "dataset.head(3)"
   ]
  },
  {
   "cell_type": "code",
   "execution_count": null,
   "id": "e9cb8f18",
   "metadata": {},
   "outputs": [],
   "source": []
  },
  {
   "cell_type": "code",
   "execution_count": 45,
   "id": "2f21e417",
   "metadata": {},
   "outputs": [],
   "source": [
    "from sklearn.preprocessing import MinMaxScaler"
   ]
  },
  {
   "cell_type": "code",
   "execution_count": 46,
   "id": "488592fe",
   "metadata": {},
   "outputs": [],
   "source": [
    "ss=MinMaxScaler()\n",
    "dataset[\"CC/Battery Capacity_ss\"]=pd.DataFrame(ss.fit_transform(dataset[[\"CC/Battery Capacity\"]]),columns=[\"x\"])"
   ]
  },
  {
   "cell_type": "code",
   "execution_count": 47,
   "id": "4da083dd",
   "metadata": {},
   "outputs": [
    {
     "data": {
      "text/html": [
       "<div>\n",
       "<style scoped>\n",
       "    .dataframe tbody tr th:only-of-type {\n",
       "        vertical-align: middle;\n",
       "    }\n",
       "\n",
       "    .dataframe tbody tr th {\n",
       "        vertical-align: top;\n",
       "    }\n",
       "\n",
       "    .dataframe thead th {\n",
       "        text-align: right;\n",
       "    }\n",
       "</style>\n",
       "<table border=\"1\" class=\"dataframe\">\n",
       "  <thead>\n",
       "    <tr style=\"text-align: right;\">\n",
       "      <th></th>\n",
       "      <th>Company Names</th>\n",
       "      <th>Cars Names</th>\n",
       "      <th>Engines</th>\n",
       "      <th>CC/Battery Capacity</th>\n",
       "      <th>HorsePower</th>\n",
       "      <th>Total Speed</th>\n",
       "      <th>Performance(0 - 100 )KM/H</th>\n",
       "      <th>Cars Prices</th>\n",
       "      <th>Fuel Types</th>\n",
       "      <th>Seats</th>\n",
       "      <th>Torque</th>\n",
       "      <th>z_score</th>\n",
       "      <th>Total Speed_ss</th>\n",
       "      <th>CC/Battery Capacity_ss</th>\n",
       "    </tr>\n",
       "  </thead>\n",
       "  <tbody>\n",
       "    <tr>\n",
       "      <th>0</th>\n",
       "      <td>FERRARI</td>\n",
       "      <td>SF90 STRADALE</td>\n",
       "      <td>V8</td>\n",
       "      <td>3990.0</td>\n",
       "      <td>963.0</td>\n",
       "      <td>340.0</td>\n",
       "      <td>2.5</td>\n",
       "      <td>1100000</td>\n",
       "      <td>plug in hyrbrid</td>\n",
       "      <td>2</td>\n",
       "      <td>800</td>\n",
       "      <td>-0.376137</td>\n",
       "      <td>2.274845</td>\n",
       "      <td>1.995569e-06</td>\n",
       "    </tr>\n",
       "    <tr>\n",
       "      <th>1</th>\n",
       "      <td>ROLLS ROYCE</td>\n",
       "      <td>PHANTOM</td>\n",
       "      <td>V12</td>\n",
       "      <td>0.0</td>\n",
       "      <td>563.0</td>\n",
       "      <td>250.0</td>\n",
       "      <td>5.3</td>\n",
       "      <td>460000</td>\n",
       "      <td>Petrol</td>\n",
       "      <td>5</td>\n",
       "      <td>900</td>\n",
       "      <td>-0.042463</td>\n",
       "      <td>0.630834</td>\n",
       "      <td>0.000000e+00</td>\n",
       "    </tr>\n",
       "    <tr>\n",
       "      <th>2</th>\n",
       "      <td>Ford</td>\n",
       "      <td>KA+</td>\n",
       "      <td>1.2L Petrol</td>\n",
       "      <td>1200.0</td>\n",
       "      <td>7085.0</td>\n",
       "      <td>165.0</td>\n",
       "      <td>10.5</td>\n",
       "      <td>1200015000</td>\n",
       "      <td>Petrol</td>\n",
       "      <td>5</td>\n",
       "      <td>100140</td>\n",
       "      <td>-0.042463</td>\n",
       "      <td>-0.921843</td>\n",
       "      <td>6.001711e-07</td>\n",
       "    </tr>\n",
       "    <tr>\n",
       "      <th>3</th>\n",
       "      <td>MERCEDES</td>\n",
       "      <td>GT 63 S</td>\n",
       "      <td>V8</td>\n",
       "      <td>3982.0</td>\n",
       "      <td>630.0</td>\n",
       "      <td>250.0</td>\n",
       "      <td>0.0</td>\n",
       "      <td>0</td>\n",
       "      <td>Petrol</td>\n",
       "      <td>4</td>\n",
       "      <td>900</td>\n",
       "      <td>-0.153688</td>\n",
       "      <td>0.630834</td>\n",
       "      <td>1.991568e-06</td>\n",
       "    </tr>\n",
       "    <tr>\n",
       "      <th>4</th>\n",
       "      <td>AUDI</td>\n",
       "      <td>AUDI R8 Gt</td>\n",
       "      <td>V10</td>\n",
       "      <td>5204.0</td>\n",
       "      <td>0.0</td>\n",
       "      <td>320.0</td>\n",
       "      <td>3.6</td>\n",
       "      <td>253290</td>\n",
       "      <td>Petrol</td>\n",
       "      <td>2</td>\n",
       "      <td>560</td>\n",
       "      <td>-0.376137</td>\n",
       "      <td>1.909509</td>\n",
       "      <td>2.602742e-06</td>\n",
       "    </tr>\n",
       "  </tbody>\n",
       "</table>\n",
       "</div>"
      ],
      "text/plain": [
       "  Company Names     Cars Names      Engines  CC/Battery Capacity  HorsePower  \\\n",
       "0       FERRARI  SF90 STRADALE           V8               3990.0       963.0   \n",
       "1   ROLLS ROYCE        PHANTOM          V12                  0.0       563.0   \n",
       "2          Ford            KA+  1.2L Petrol               1200.0      7085.0   \n",
       "3      MERCEDES        GT 63 S           V8               3982.0       630.0   \n",
       "4          AUDI     AUDI R8 Gt          V10               5204.0         0.0   \n",
       "\n",
       "   Total Speed  Performance(0 - 100 )KM/H  Cars Prices       Fuel Types  \\\n",
       "0        340.0                        2.5      1100000  plug in hyrbrid   \n",
       "1        250.0                        5.3       460000           Petrol   \n",
       "2        165.0                       10.5   1200015000           Petrol   \n",
       "3        250.0                        0.0            0           Petrol   \n",
       "4        320.0                        3.6       253290           Petrol   \n",
       "\n",
       "   Seats  Torque   z_score  Total Speed_ss  CC/Battery Capacity_ss  \n",
       "0      2     800 -0.376137        2.274845            1.995569e-06  \n",
       "1      5     900 -0.042463        0.630834            0.000000e+00  \n",
       "2      5  100140 -0.042463       -0.921843            6.001711e-07  \n",
       "3      4     900 -0.153688        0.630834            1.991568e-06  \n",
       "4      2     560 -0.376137        1.909509            2.602742e-06  "
      ]
     },
     "execution_count": 47,
     "metadata": {},
     "output_type": "execute_result"
    }
   ],
   "source": [
    "dataset.head(5)"
   ]
  },
  {
   "cell_type": "code",
   "execution_count": 48,
   "id": "c9ef7a6a",
   "metadata": {},
   "outputs": [
    {
     "name": "stderr",
     "output_type": "stream",
     "text": [
      "C:\\Users\\SACHIN\\AppData\\Local\\Temp\\ipykernel_20080\\860938339.py:3: UserWarning: \n",
      "\n",
      "`distplot` is a deprecated function and will be removed in seaborn v0.14.0.\n",
      "\n",
      "Please adapt your code to use either `displot` (a figure-level function with\n",
      "similar flexibility) or `histplot` (an axes-level function for histograms).\n",
      "\n",
      "For a guide to updating your code to use the new functions, please see\n",
      "https://gist.github.com/mwaskom/de44147ed2974457ad6372750bbe5751\n",
      "\n",
      "  sns.distplot(dataset[\"CC/Battery Capacity\"])\n",
      "C:\\Users\\SACHIN\\AppData\\Local\\Temp\\ipykernel_20080\\860938339.py:6: UserWarning: \n",
      "\n",
      "`distplot` is a deprecated function and will be removed in seaborn v0.14.0.\n",
      "\n",
      "Please adapt your code to use either `displot` (a figure-level function with\n",
      "similar flexibility) or `histplot` (an axes-level function for histograms).\n",
      "\n",
      "For a guide to updating your code to use the new functions, please see\n",
      "https://gist.github.com/mwaskom/de44147ed2974457ad6372750bbe5751\n",
      "\n",
      "  sns.distplot(dataset[\"CC/Battery Capacity_ss\"])\n"
     ]
    },
    {
     "data": {
      "image/png": "[encoded data removed]",
      "text/plain": [
       "<Figure size 640x480 with 2 Axes>"
      ]
     },
     "metadata": {},
     "output_type": "display_data"
    }
   ],
   "source": [
    "plt.subplot(1,2,1)\n",
    "plt.title(\"Before\")\n",
    "sns.distplot(dataset[\"CC/Battery Capacity\"])\n",
    "plt.subplot(1,2,2)\n",
    "plt.title(\"After\")\n",
    "sns.distplot(dataset[\"CC/Battery Capacity_ss\"])\n",
    "plt.show()"
   ]
  },
  {
   "cell_type": "markdown",
   "id": "5b2fc09d",
   "metadata": {},
   "source": [
    "To remove duplicated row data."
   ]
  },
  {
   "cell_type": "code",
   "execution_count": 49,
   "id": "473c10a0",
   "metadata": {},
   "outputs": [
    {
     "data": {
      "text/plain": [
       "(1218, 14)"
      ]
     },
     "execution_count": 49,
     "metadata": {},
     "output_type": "execute_result"
    }
   ],
   "source": [
    "dataset.shape"
   ]
  },
  {
   "cell_type": "code",
   "execution_count": 50,
   "id": "bcdbe838",
   "metadata": {},
   "outputs": [],
   "source": [
    "dataset.drop_duplicates(inplace=True)"
   ]
  },
  {
   "cell_type": "code",
   "execution_count": 51,
   "id": "0d216a40",
   "metadata": {},
   "outputs": [
    {
     "data": {
      "text/plain": [
       "(1213, 14)"
      ]
     },
     "execution_count": 51,
     "metadata": {},
     "output_type": "execute_result"
    }
   ],
   "source": [
    "dataset.shape"
   ]
  },
  {
   "cell_type": "markdown",
   "id": "3756dbec",
   "metadata": {},
   "source": [
    "Here, the rows are shrinked. Therefore removing the duplicates."
   ]
  }
 ],
 "metadata": {
  "kernelspec": {
   "display_name": "venv",
   "language": "python",
   "name": "python3"
  },
  "language_info": {
   "codemirror_mode": {
    "name": "ipython",
    "version": 3
   },
   "file_extension": ".py",
   "mimetype": "text/x-python",
   "name": "python",
   "nbconvert_exporter": "python",
   "pygments_lexer": "ipython3",
   "version": "3.13.1"
  }
 },
 "nbformat": 4,
 "nbformat_minor": 5
}
